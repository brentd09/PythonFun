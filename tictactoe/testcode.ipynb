{
 "cells": [
  {
   "cell_type": "code",
   "execution_count": 56,
   "metadata": {
    "collapsed": true,
    "jupyter": {
     "outputs_hidden": true
    },
    "pycharm": {
     "name": "#%%\n"
    }
   },
   "outputs": [
    {
     "name": "stdout",
     "output_type": "stream",
     "text": [
      "['1', '2', '3', '6', '7', '8', '9']\n",
      "O\n"
     ]
    }
   ],
   "source": [
    "import random\n",
    "a = ['1','2','3','X','O','6','7','8','9']\n",
    "remaining = [i for i in a if i in ['1','2','3','4','5','6','7','8','9']]\n",
    "print(remaining)\n",
    "print(random.choice(a))"
   ]
  },
  {
   "cell_type": "code",
   "execution_count": 3,
   "metadata": {
    "collapsed": false,
    "jupyter": {
     "outputs_hidden": false
    },
    "pycharm": {
     "name": "#%%\n"
    }
   },
   "outputs": [
    {
     "data": {
      "text/plain": "3"
     },
     "execution_count": 3,
     "metadata": {},
     "output_type": "execute_result"
    }
   ],
   "source": [
    "min(3,6)"
   ]
  },
  {
   "cell_type": "code",
   "execution_count": 4,
   "metadata": {
    "collapsed": false,
    "jupyter": {
     "outputs_hidden": false
    },
    "pycharm": {
     "name": "#%%\n"
    }
   },
   "outputs": [
    {
     "data": {
      "text/plain": "30"
     },
     "execution_count": 4,
     "metadata": {},
     "output_type": "execute_result"
    }
   ],
   "source": [
    "max(30,6)"
   ]
  },
  {
   "cell_type": "code",
   "execution_count": 3,
   "outputs": [
    {
     "name": "stdout",
     "output_type": "stream",
     "text": [
      "[1936, 4356]\n"
     ]
    }
   ],
   "source": [
    "a = 50\n",
    "x = 'bob' if a > 30 else 'bill'\n",
    "\n",
    "\n",
    "l = [321 ,543, 765,332, 44, 66]\n",
    "ll = [i**2 for i in l if i < 100]\n",
    "print (ll)"
   ],
   "metadata": {
    "collapsed": false,
    "pycharm": {
     "name": "#%%\n"
    }
   }
  },
  {
   "cell_type": "markdown",
   "source": [],
   "metadata": {
    "collapsed": false,
    "pycharm": {
     "name": "#%% md\n"
    }
   }
  },
  {
   "cell_type": "code",
   "execution_count": 6,
   "outputs": [
    {
     "name": "stdout",
     "output_type": "stream",
     "text": [
      "Hello\n",
      "llo\n",
      "lo\n",
      "o\n",
      ".\n"
     ]
    }
   ],
   "source": [
    "# echo.py\n",
    "\n",
    "def echo(text: str, repetitions: int = 3) -> str:\n",
    "    \"\"\"Imitate a real-world echo.\"\"\"\n",
    "    print(text)\n",
    "    echoed_text = \"\"\n",
    "    for i in range(repetitions, 0, -1):\n",
    "        echoed_text += f\"{text[-i:]}\\n\"\n",
    "    return f\"{echoed_text.lower()}.\"\n",
    "\n",
    "if __name__ == \"__main__\":\n",
    "    text = input(\"Yell something at a mountain: \")\n",
    "    print(echo(text))"
   ],
   "metadata": {
    "collapsed": false,
    "pycharm": {
     "name": "#%%\n"
    }
   }
  }
 ],
 "metadata": {
  "kernelspec": {
   "display_name": "Python 3 (ipykernel)",
   "language": "python",
   "name": "python3"
  },
  "language_info": {
   "codemirror_mode": {
    "name": "ipython",
    "version": 3
   },
   "file_extension": ".py",
   "mimetype": "text/x-python",
   "name": "python",
   "nbconvert_exporter": "python",
   "pygments_lexer": "ipython3",
   "version": "3.10.6"
  }
 },
 "nbformat": 4,
 "nbformat_minor": 4
}